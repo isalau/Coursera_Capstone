{
 "cells": [
  {
   "cell_type": "code",
   "execution_count": null,
   "metadata": {},
   "outputs": [],
   "source": [
    "import numpy as np \n",
    "import pandas as pd \n",
    "pd.set_option('display.max_columns', None)\n",
    "pd.set_option('display.max_rows', None)\n",
    "import math\n",
    "import requests\n",
    "import json \n",
    "import folium \n",
    "import geocoder \n",
    "\n",
    "import io\n",
    "from PIL import Image\n",
    "import matplotlib.cm as cm\n",
    "import matplotlib.colors as colors\n",
    "\n",
    "from sklearn.cluster import KMeans\n",
    "from pandas.io.json import json_normalize \n",
    "from geopy.geocoders import Nominatim \n",
    "\n",
    "print('Libraries imported.')"
   ]
  },
  {
   "cell_type": "code",
   "execution_count": null,
   "metadata": {},
   "outputs": [],
   "source": [
    "path = \"/Users/isalau/Documents/GitHub/Coursera_Capstone/Neighborhood_Labels.csv\"\n",
    "dc = pd.read_csv(path)  "
   ]
  },
  {
   "cell_type": "code",
   "execution_count": null,
   "metadata": {},
   "outputs": [],
   "source": [
    "dc = dc.rename({'X': 'Longitude'}, axis='columns')\n",
    "dc = dc.rename({'Y': 'Latitude'}, axis='columns')\n",
    "dc = dc.rename({'NAME': 'Neighborhood'}, axis='columns')"
   ]
  },
  {
   "cell_type": "code",
   "execution_count": null,
   "metadata": {},
   "outputs": [],
   "source": [
    "def getNearbyVenues(names, latitudes, longitudes, radius=500, LIMIT=100):\n",
    "    \n",
    "    venues_list=[]\n",
    "    for name, lat, lng in zip(names, latitudes, longitudes):           \n",
    "        # create the API request URL\n",
    "        url = 'https://api.foursquare.com/v2/venues/explore?&client_id={}&client_secret={}&v={}&ll={},{}&radius={}&limit={}'.format(\n",
    "            CLIENT_ID, \n",
    "            CLIENT_SECRET, \n",
    "            VERSION, \n",
    "            lat, \n",
    "            lng, \n",
    "            radius, \n",
    "            LIMIT)\n",
    "            \n",
    "        # make the GET request\n",
    "        results = requests.get(url).json()[\"response\"]['groups'][0]['items']\n",
    "        \n",
    "        # return only relevant information for each nearby venue\n",
    "        venues_list.append([(\n",
    "            name, \n",
    "            lat, \n",
    "            lng, \n",
    "            v['venue']['name'], \n",
    "            v['venue']['location']['lat'], \n",
    "            v['venue']['location']['lng'],  \n",
    "            v['venue']['categories'][0]['name']) for v in results])\n",
    "\n",
    "    nearby_venues = pd.DataFrame([item for venue_list in venues_list for item in venue_list])\n",
    "    nearby_venues.columns = ['Neighborhood', \n",
    "                  'Neighborhood Latitude', \n",
    "                  'Neighborhood Longitude', \n",
    "                  'Venue', \n",
    "                  'Venue Latitude', \n",
    "                  'Venue Longitude', \n",
    "                  'Venue Category']\n",
    "    \n",
    "    return(nearby_venues)"
   ]
  },
  {
   "cell_type": "code",
   "execution_count": null,
   "metadata": {},
   "outputs": [],
   "source": [
    "path = \"/Users/isalau/Documents/GitHub/Coursera_Capstone/dc_venues.csv\"\n",
    "dc_venues_from_csv= pd.read_csv(path)\n",
    "dc_venues_from_csv.head()\n",
    "dc_venues = dc_venues_from_csv"
   ]
  },
  {
   "cell_type": "code",
   "execution_count": null,
   "metadata": {},
   "outputs": [],
   "source": [
    "#DC Venues\n",
    "dc_venues.groupby('Neighborhood').count()\n",
    "# print('There are {} uniques categories.'.format(len(dc_venues['Venue Category'].unique())))"
   ]
  },
  {
   "cell_type": "code",
   "execution_count": null,
   "metadata": {},
   "outputs": [],
   "source": [
    "# one hot encoding\n",
    "dc_onehot = pd.get_dummies(dc_venues[['Venue Category']], prefix=\"\", prefix_sep=\"\")\n",
    "\n",
    "# add neighborhood column back to dataframe\n",
    "dc_onehot['Neighborhood'] = dc_venues['Neighborhood'] \n",
    "\n",
    "# move neighborhood column to the first column\n",
    "fixed_columns = [dc_onehot.columns[-1]] + list(dc_onehot.columns[:-1])\n",
    "dc_onehot = dc_onehot[fixed_columns]\n",
    "\n",
    "dc_grouped = dc_onehot.groupby('Neighborhood').mean().reset_index()"
   ]
  },
  {
   "cell_type": "code",
   "execution_count": null,
   "metadata": {},
   "outputs": [],
   "source": [
    "def return_most_common_venues(row, num_top_venues):\n",
    "    row_categories = row.iloc[1:]\n",
    "    row_categories_sorted = row_categories.sort_values(ascending=False)\n",
    "    \n",
    "    return row_categories_sorted.index.values[0:num_top_venues]"
   ]
  },
  {
   "cell_type": "code",
   "execution_count": null,
   "metadata": {
    "scrolled": true
   },
   "outputs": [],
   "source": [
    "#get top 20 venues per neighborhood\n",
    "num_top_venues = 30\n",
    "\n",
    "indicators = ['st', 'nd', 'rd']\n",
    "\n",
    "# create columns according to number of top venues\n",
    "columns = ['Neighborhood']\n",
    "for ind in np.arange(num_top_venues):\n",
    "    try:\n",
    "        columns.append('{}{} Most Common Venue'.format(ind+1, indicators[ind]))\n",
    "    except:\n",
    "        columns.append('{}th Most Common Venue'.format(ind+1))\n",
    "\n",
    "# create a new dataframe\n",
    "neighborhoods_venues_sorted = pd.DataFrame(columns=columns)\n",
    "neighborhoods_venues_sorted['Neighborhood'] = dc_grouped['Neighborhood']\n",
    "\n",
    "for ind in np.arange(dc_grouped.shape[0]):\n",
    "    neighborhoods_venues_sorted.iloc[ind, 1:] = return_most_common_venues(dc_grouped.iloc[ind, :], num_top_venues)"
   ]
  },
  {
   "cell_type": "code",
   "execution_count": null,
   "metadata": {},
   "outputs": [],
   "source": [
    "dc_grouped_clustering = dc_grouped.drop('Neighborhood', 1)\n",
    "neighborhoods_venues_sorted.insert(0, 'Cluster Labels', 0)"
   ]
  },
  {
   "cell_type": "code",
   "execution_count": null,
   "metadata": {},
   "outputs": [],
   "source": []
  },
  {
   "cell_type": "markdown",
   "metadata": {},
   "source": [
    "# Visualizations "
   ]
  },
  {
   "cell_type": "code",
   "execution_count": null,
   "metadata": {},
   "outputs": [],
   "source": [
    "def makeMap(df, numclusters):\n",
    "    address = 'Washington,DC'\n",
    "\n",
    "    geolocator = Nominatim(user_agent=\"dc_explorer\")\n",
    "    location = geolocator.geocode(address)\n",
    "    latitude = location.latitude\n",
    "    longitude = location.longitude\n",
    "\n",
    "    # create map\n",
    "    map_clusters = folium.Map(location=[latitude, longitude], zoom_start=10)\n",
    "\n",
    "    # set color scheme for the clusters\n",
    "    x = np.arange(numclusters)\n",
    "    ys = [i + x + (i*x)**2 for i in range(numclusters)]\n",
    "    colors_array = cm.rainbow(np.linspace(0, 1, len(ys)))\n",
    "    rainbow = [colors.rgb2hex(i) for i in colors_array]\n",
    "\n",
    "    # add markers to the map\n",
    "    markers_colors = []\n",
    "    for lat, lon, poi, cluster in zip(df['Latitude'], df['Longitude'], df['Neighborhood'], df['Cluster Labels']):\n",
    "        if (math.isnan(cluster)):\n",
    "            clus = numclusters\n",
    "        else: \n",
    "            clus = int(cluster)\n",
    "        label = folium.Popup('Neighborhood: '+ str(poi) + ' Cluster: ' + str(clus), parse_html=True)\n",
    "\n",
    "\n",
    "        folium.CircleMarker(\n",
    "            [lat, lon],\n",
    "            radius=5,\n",
    "            popup=label,\n",
    "            color=rainbow[clus-1],\n",
    "            fill=True,\n",
    "            fill_color=rainbow[clus-1],\n",
    "            fill_opacity=0.7).add_to(map_clusters)\n",
    "\n",
    "    map_clusters\n",
    "    map_clusters.save('map%s.html' % numclusters)\n",
    "    return map_clusters "
   ]
  },
  {
   "cell_type": "markdown",
   "metadata": {},
   "source": [
    "# KMeans"
   ]
  },
  {
   "cell_type": "code",
   "execution_count": null,
   "metadata": {},
   "outputs": [],
   "source": [
    "# 3 clusters ideally representing residential, tourist, industrial\n",
    "# run from 3 - 10 clusters to see where neighborhoods start to differentiate\n",
    "for x in range(3,11):\n",
    "    kclusters = x\n",
    "\n",
    "    # run k-means clustering\n",
    "    kmeans = KMeans(n_clusters=kclusters, random_state=200).fit(dc_grouped_clustering)\n",
    "\n",
    "    # add clustering labels\n",
    "    neighborhoods_venues_sorted['Cluster Labels']=kmeans.labels_\n",
    "\n",
    "    dc_merged = dc\n",
    "\n",
    "    # merge dc_grouped with dc_data to add latitude/longitude for each neighborhood\n",
    "    dc_merged = dc_merged.join(neighborhoods_venues_sorted.set_index('Neighborhood'), on='Neighborhood')\n",
    "    \n",
    "    # show the map \n",
    "    makeMap(dc_merged, kclusters)"
   ]
  },
  {
   "cell_type": "code",
   "execution_count": null,
   "metadata": {},
   "outputs": [],
   "source": []
  },
  {
   "cell_type": "markdown",
   "metadata": {},
   "source": [
    "# Manully Cluster Neighborhoods"
   ]
  },
  {
   "cell_type": "code",
   "execution_count": null,
   "metadata": {},
   "outputs": [],
   "source": [
    "def rename_labels(cat):\n",
    "    #Residential\n",
    "    Grocery = ['Tea','Bakery','Bagel Shop','Candy Store','Chocolate Shop','Convenience Store','Cupcake Shop','Deli / Bodega','Dessert Shop','Donut Shop','Drugstore','Farmers Market','Food,Food & Drink Shop','Gourmet Shop','Grocery Store','Liquor Store','Market','Organic Grocery','Pharmacy','Smoothie Shop','Snack Place','Supermarket','Supplement Shop','Wine Shop','Beer Store']\n",
    "    Health = ['Chiropractor','Health & Beauty Service','Hospital','Massage Studio','Nail Salon','Spa','Salon / Barbershop']\n",
    "    Home = ['Dog Run','Dry Cleaner','Home Service','Laundromat','Locksmith','Moving Target','Other Repair Shop','Pet Service','Shoe Repair','Storage Facility','Tailor Shop','Residential Building (Apartment / Condo)']\n",
    "    Sports = ['Athletics & Sports','Baseball Field','Basketball Court','Basketball Stadium','Boxing Gym','Cycle Studio','Dance Studio','Field','Golf Course','Gym','Gym / Fitness Center','Gym Pool','Gymnastics Gym','Harbor / Marina','Heliport','Lake','Martial Arts School','Pilates Studio','Playground','Skating Rink','Soccer Field','Soccer Stadium','Sports Club','State / Provincial Park','Volleyball Court','Yoga Studio','Recreation Center','Track','Tennis Court']\n",
    "\n",
    "    #Residential/Tourism \n",
    "    Shopping=['Accessories Store','Antique Shop','Arts & Crafts Store','Automotive Shop','Big Box Store','Bookstore','Boutique','Camera Store','Christmas Market','Clothing Store','Comic Shop','Cosmetics Shop','Department Store','Discount Store','Electronics Store','Flea Market','Flower Shop','Furniture / Home Store','Gift Shop','Hardware Store','Herbs & Spices Store','Jewelry Store','Kids Store','Kitchen Supply Store','Leather Goods Store','Lingerie Store','Mattress Store',\"Men/'s Store\",'Miscellaneous Shop','Mobile Phone Shop','Music Store','Optical Shop','Paper / Office Supplies Store','Pet Store','Photography Lab','Record Shop','Shipping Store','Shoe Store','Shop & Service','Shopping Mall','Shopping Plaza','Smoke Shop','Souvenir Shop','Sporting Goods Shop','Thrift / Vintage Store','Toy / Game Store','Video Store','Warehouse Store',\"Women/'s Store\"]\n",
    "    Bar = ['Bar','Beer Bar','Beer Garden','Brewery','Cocktail Bar','Dive Bar','Gastropub','Gay Bar','Irish Pub','Karaoke Bar','Pub','Speakeasy','Sports Bar','Thai Restaurant','Tiki Bar','Whisky Bar','Wine Bar']\n",
    "    Restaurant = ['Afghan Restaurant','American Restaurant','Arepa Restaurant','Asian Restaurant','BBQ Joint','Belgian Restaurant','Bistro','Brazilian Restaurant','Breakfast Spot','Burger Joint','Burrito Place','Café','Cafeteria','Cajun / Creole Restaurant','Cantonese Restaurant','Caribbean Restaurant','Cheese Shop','Chinese Restaurant','Coffee Shop','Comfort Food Restaurant','Cuban Restaurant','Diner','Dumpling Restaurant','Eastern European Restaurant','Empanada Restaurant','Ethiopian Restaurant','Falafel Restaurant','Fast Food Restaurant','Filipino Restaurant','Fish & Chips Shop','Food Court','Food Service','Food Truck','French Restaurant','Fried Chicken Joint','Frozen Yogurt Shop','German Restaurant','Gluten-free Restaurant','Greek Restaurant','Hot Dog Joint','Ice Cream Shop','Indian Restaurant','Israeli Restaurant','Italian Restaurant','Japanese Restaurant','Juice Bar','Korean Restaurant','Latin American Restaurant','Mediterranean Restaurant','Mexican Restaurant','Middle Eastern Restaurant','New American Restaurant','Noodle House','Peruvian Restaurant','Pizza Place','Poke Place','Portuguese Restaurant','Puerto Rican Restaurant','Ramen Restaurant','Restaurant','Salad Place','Salvadoran Restaurant','Sandwich Place','Scandinavian Restaurant','Seafood Restaurant','South American Restaurant','Southern / Soul Food Restaurant','Spanish Restaurant','Steakhouse','Street Food Gathering','Sushi Restaurant','Taco Place','Tapas Restaurant','Tea Room','Tex-Mex Restaurant','Turkish Restaurant','Vegetarian / Vegan Restaurant','Vietnamese Restaurant','Wings Joint','Xinjiang Restaurant']\n",
    "    Transportation = ['Bike Rental / Bike Share','Boat or Ferry','Border Crossing','Bridge','Bus Line','Bus Station','Bus Stop','Gas Station','Metro Station','Rental Car Location','Trail','Train Station','Tunnel']\n",
    "    Entertainment = ['Bowling','Hookah Bar','Lounge','Nightclub','Nightlife Spot','Roof Deck','Event Space']\n",
    "    Banking = ['ATM','Bank','Check Cashing Service','Credit Union','Banking']\n",
    "    Culture = ['Art Gallery','Art Museum','Botanical Garden','Comedy Club','Escape Room','Exhibit','Fountain','Garden','General Entertainment','Historic Site','History Museum','Indie Movie Theater','Memorial Site','Monument / Landmark','Movie Theater','Museum','Music Venue','Opera House','Outdoor Sculpture','Park','Pedestrian Plaza','Performing Arts Venue','Planetarium','Plaza','Public Art','Rock Club','Scenic Lookout','Science Museum','Sculpture Garden','Synagogue','Theater','Winery','Zoo Exhibit']\n",
    "\n",
    "    #Tourism\n",
    "    Lodging = ['Bed & Breakfast','Hostel','Hotel','Hotel Bar','Hotel Pool']\n",
    "\n",
    "    #Industrial\n",
    "    Infrastructure = ['Intersection','Reservoir','River','Road']\n",
    "    Business = ['Building','Business Service','Construction & Landscaping','Government Building','Insurance Office','Lawyer','Light Rail Station','Office','Post Office']\n",
    "\n",
    "    cat = cat.replace(to_replace= Grocery, value=\"Grocery\", regex = True)\n",
    "    cat = cat.replace(to_replace= Health, value=\"Health\", regex = True)\n",
    "    cat = cat.replace(to_replace= Home, value=\"Home\", regex = True)\n",
    "    cat = cat.replace(to_replace= Sports, value=\"Sports\", regex = True)\n",
    "\n",
    "    cat = cat.replace(to_replace= Shopping, value=\"Shopping\", regex = True)\n",
    "    cat = cat.replace(to_replace= Restaurant, value=\"Restaurant\", regex = True)\n",
    "    cat = cat.replace(to_replace= Bar, value=\"Bar\", regex = True)\n",
    "    cat = cat.replace(to_replace= Transportation, value=\"Transportation\", regex = True)\n",
    "    cat = cat.replace(to_replace= Entertainment, value=\"Entertainment\", regex = True)\n",
    "    cat = cat.replace(to_replace= Banking, value=\"Banking\", regex = True)\n",
    "    cat = cat.replace(to_replace= Culture, value=\"Culture\", regex = True)\n",
    "\n",
    "\n",
    "    cat = cat.replace(to_replace= Lodging, value=\"Lodging\", regex = True)\n",
    "\n",
    "    cat = cat.replace(to_replace= Infrastructure, value=\"Infrastructure\", regex = True)\n",
    "    cat = cat.replace(to_replace= Business, value=\"Business\", regex = True)\n",
    "\n",
    "    #Residential\n",
    "    cat = cat.replace(regex=r'.*Food.*', value=\"Grocery\")\n",
    "    cat = cat.replace(regex=r'.*Grocery.*', value=\"Grocery\")\n",
    "\n",
    "\n",
    "    cat = cat.replace(regex=r'.*Auto.*', value=\"Home\")\n",
    "    cat = cat.replace(regex=r'.*School.*', value=\"Home\")\n",
    "    cat = cat.replace(regex=r'.*Residential.*', value=\"Home\")\n",
    "    cat = cat.replace(regex=r'.*Child.*', value=\"Home\")\n",
    "    cat = cat.replace(regex=r'.*Care.*', value=\"Home\")\n",
    "    cat = cat.replace(regex=r'.*Home.*', value=\"Home\")\n",
    "    cat = cat.replace(regex=r'.*Neighborhood.*', value=\"Home\")\n",
    "\n",
    "    cat = cat.replace(regex=r'.*Sports.*', value=\"Sports\")\n",
    "    cat = cat.replace(regex=r'.*Studio.*', value=\"Sports\")\n",
    "    cat = cat.replace(regex=r'.*Stables.*', value=\"Sports\")\n",
    "    cat = cat.replace(regex=r'.*Store.*', value=\"Sports\")\n",
    "\n",
    "    #Residential/Tourism\n",
    "    cat = cat.replace(regex=r'.*Bar.*', value=\"Bar\")\n",
    "    cat = cat.replace(regex=r'.*Restaurant.*', value=\"Restaurant\")\n",
    "\n",
    "    cat = cat.replace(regex=r'.*Men.*', value=\"Shopping\")\n",
    "    cat = cat.replace(regex=r'.*Women.*', value=\"Shopping\")\n",
    "\n",
    "    cat = cat.replace(regex=r'.*Culture.*', value=\"Culture\")\n",
    "    cat = cat.replace(regex=r'.*Event.*', value=\"Culture\")\n",
    "    cat = cat.replace(regex=r'.*Concert.*', value=\"Culture\")\n",
    "    cat = cat.replace(regex=r'.*Art.*', value=\"Culture\")\n",
    "\n",
    "    cat = cat.replace(regex=r'.*Pool.*', value=\"Entertainment\")\n",
    "    cat = cat.replace(regex=r'.*Entertainment.*', value=\"Entertainment\")\n",
    "\n",
    "\n",
    "    #Tourism \n",
    "    cat = cat.replace(regex=r'.*Tour.*', value=\"Tourism\")\n",
    "    cat = cat.replace(regex=r'.*Hotel.*', value=\"Lodging\")\n",
    "\n",
    "    #Industrial \n",
    "    cat = cat.replace(regex=r'.*College.*', value=\"College\")\n",
    "    cat = cat.replace(regex=r'.*Business.*', value=\"Business\")\n",
    "    cat = cat.replace(regex=r'.*Bank.*', value=\"Banking\")\n",
    "\n",
    "    cat = cat.replace(regex=r'Grocery|Health|Home|Sports', value=\"Residential\")\n",
    "    cat = cat.replace(regex=r'Shopping|Bar|Restaurant|Culture|Banking|Entertainment|Transportation', value=\"RTBoth\")\n",
    "    labels = cat.replace(regex=r'Lodging|Tourism', value=\"Tourism\")\n",
    "    cat = cat.replace(regex=r'Business|Infrastructure|College|Factory', value=\"Industrial\")\n",
    "\n",
    "    return labels"
   ]
  },
  {
   "cell_type": "code",
   "execution_count": null,
   "metadata": {},
   "outputs": [],
   "source": [
    "def countLabels(row):\n",
    "    r = 0 \n",
    "    i = 0 \n",
    "    t = 0 \n",
    "    o = 0 \n",
    "    #count how many residential, industrial and tousit establishments there are. \n",
    "    for place in row:\n",
    "        if place == \"Residential\":\n",
    "            r += 1\n",
    "        elif place == \"RTBoth\":\n",
    "            #if an establishment is labeled as rtboth it gets a point in both residential and tourist. \n",
    "            r += 1\n",
    "            t += 1\n",
    "        elif place == \"Tourism\":\n",
    "            t += 1\n",
    "        elif place == \"Industrial\":\n",
    "            i += 1\n",
    "        else:\n",
    "            o += 1\n",
    "            #ignore the venue\n",
    "    \n",
    "    #neighborhood is assigned label based on majority of establishments. \n",
    "    #if tie, break arbitrarly ---> priint these \n",
    "    l = {r:\"r\",i:\"i\",t:\"t\"} \n",
    "    label = l.get(max(l))\n",
    "     \n",
    "    newLabel = 0\n",
    "    \n",
    "    if label == \"r\":\n",
    "        newLabel = 0\n",
    "    elif label == \"i\":\n",
    "        newLabel = 1\n",
    "    elif label == \"t\":\n",
    "        newLabel = 2\n",
    "    elif label == \"o\":\n",
    "        newLabel = 2\n",
    "    else:\n",
    "        newLabel = 2\n",
    "            \n",
    "    return newLabel"
   ]
  },
  {
   "cell_type": "code",
   "execution_count": null,
   "metadata": {},
   "outputs": [],
   "source": [
    "neighborhoods_manual = neighborhoods_venues_sorted.apply(lambda x: rename_labels(x) if x.name != 'Neighborhood' else x)"
   ]
  },
  {
   "cell_type": "code",
   "execution_count": null,
   "metadata": {},
   "outputs": [],
   "source": [
    "# for each neighborhood \n",
    "    #count how many neighborhoods_manual, industrial and tousit establishments there are. \n",
    "for index, row in neighborhoods_manual.iterrows():\n",
    "    newLabel = countLabels(row)\n",
    "    print(f'Index: {index}, newLabel: {newLabel}, row: {row.values}\\n')\n",
    "    # cluster neighborhoods based on labels\n",
    "    neighborhoods_manual['Cluster Labels'] = newLabel"
   ]
  },
  {
   "cell_type": "code",
   "execution_count": null,
   "metadata": {
    "scrolled": true
   },
   "outputs": [],
   "source": [
    "man = dc[['Neighborhood', 'Longitude', 'Latitude']]\n",
    "mann = neighborhoods_manual[['Cluster Labels','Neighborhood']]\n",
    "man = man.merge(mann.set_index('Neighborhood'), on='Neighborhood')\n",
    "makeMap(man, 3)"
   ]
  }
 ],
 "metadata": {
  "kernelspec": {
   "display_name": "Python 3",
   "language": "python",
   "name": "python3"
  },
  "language_info": {
   "codemirror_mode": {
    "name": "ipython",
    "version": 3
   },
   "file_extension": ".py",
   "mimetype": "text/x-python",
   "name": "python",
   "nbconvert_exporter": "python",
   "pygments_lexer": "ipython3",
   "version": "3.8.5"
  }
 },
 "nbformat": 4,
 "nbformat_minor": 4
}
